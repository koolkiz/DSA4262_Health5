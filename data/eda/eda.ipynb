{
 "cells": [
  {
   "cell_type": "markdown",
   "metadata": {},
   "source": [
    "# Check for any mismatch in number of Radiology-manual-annotations and images"
   ]
  },
  {
   "cell_type": "code",
   "execution_count": 57,
   "metadata": {},
   "outputs": [
    {
     "name": "stdout",
     "output_type": "stream",
     "text": [
      "Series([], Name: Patient_ID, dtype: int64)\n"
     ]
    }
   ],
   "source": [
    "import os\n",
    "import pandas as pd\n",
    "from collections import defaultdict\n",
    "# Path to the folder containing the images\n",
    "folder_path = \"./data/images\"\n",
    "\n",
    "# Dictionary to keep count of images for each patient\n",
    "patient_image_count = defaultdict(int)\n",
    "\n",
    "# Iterate over all files in the folder\n",
    "for filename in os.listdir(folder_path):\n",
    "    if filename.endswith(\".jpg\") or filename.endswith(\".png\"):  # Adjust the file extensions as needed\n",
    "        # Extract patient ID from the filename (assuming the format is \"P1_some_other_info.jpg\")\n",
    "        patient_id = filename.split('_')[0]\n",
    "        patient_id = patient_id[1:]  # Remove the \"P\" prefix\n",
    "        # Increment the count for the patient\n",
    "        patient_image_count[patient_id] += 1\n",
    "\n",
    "# Convert the dictionary to a DataFrame\n",
    "df_patient_image_count = pd.DataFrame(list(patient_image_count.items()), columns=['Patient_ID', 'Image_Count'])\n",
    "\n",
    "\n",
    "data = pd.read_excel(\"./data/Radiology-manual-annotations.xlsx\")\n",
    "# Calculate the number of rows for each patient ID\n",
    "# Filter rows where the column 'Type' is 'CESM'\n",
    "cesm_rows = data[data['Type'] == 'CESM']\n",
    "\n",
    "patient_row_count = cesm_rows['Patient_ID'].value_counts().reset_index()\n",
    "patient_row_count.columns = ['Patient_ID', 'Row_Count']\n",
    "\n",
    "# Convert Patient_ID to string to match the format in df_patient_image_count\n",
    "patient_row_count['Patient_ID'] = patient_row_count['Patient_ID'].astype(str)\n",
    "\n",
    "# Perform a left join on df_patient_image_count and patient_row_count using Patient_ID\n",
    "merged_df = pd.merge(df_patient_image_count, patient_row_count, on='Patient_ID', how='left')\n",
    "\n",
    "merged_df['Patient_ID'] = merged_df['Patient_ID'].astype(int)\n",
    "\n",
    "# Print patient IDs where Image_Count is not equal to Row_Count\n",
    "mismatch_ids = merged_df[merged_df['Image_Count'] != merged_df['Row_Count']]['Patient_ID']\n",
    "print(mismatch_ids)\n"
   ]
  },
  {
   "cell_type": "code",
   "execution_count": 67,
   "metadata": {},
   "outputs": [
    {
     "name": "stdout",
     "output_type": "stream",
     "text": [
      "326\n"
     ]
    }
   ],
   "source": [
    "ids = sorted(merged_df['Patient_ID'].unique().tolist())\n",
    "ids\n",
    "print(len(ids))\n"
   ]
  }
 ],
 "metadata": {
  "kernelspec": {
   "display_name": "health5",
   "language": "python",
   "name": "python3"
  },
  "language_info": {
   "codemirror_mode": {
    "name": "ipython",
    "version": 3
   },
   "file_extension": ".py",
   "mimetype": "text/x-python",
   "name": "python",
   "nbconvert_exporter": "python",
   "pygments_lexer": "ipython3",
   "version": "3.13.2"
  }
 },
 "nbformat": 4,
 "nbformat_minor": 2
}
