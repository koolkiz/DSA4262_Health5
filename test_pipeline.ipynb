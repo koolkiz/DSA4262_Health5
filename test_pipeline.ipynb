{
  "cells": [
    {
      "cell_type": "code",
      "source": [
        "from google.colab import drive\n",
        "drive.mount('/content/drive')\n",
        "data_path = '/content/drive/MyDrive/data'"
      ],
      "metadata": {
        "colab": {
          "base_uri": "https://localhost:8080/"
        },
        "id": "tEDYYNqx-Cq1",
        "outputId": "45c33d00-dcfc-4483-8e83-1deb9b6485f8"
      },
      "execution_count": 264,
      "outputs": [
        {
          "output_type": "stream",
          "name": "stdout",
          "text": [
            "Drive already mounted at /content/drive; to attempt to forcibly remount, call drive.mount(\"/content/drive\", force_remount=True).\n"
          ]
        }
      ]
    },
    {
      "cell_type": "code",
      "source": [
        "!pip install python-docx"
      ],
      "metadata": {
        "colab": {
          "base_uri": "https://localhost:8080/"
        },
        "id": "wL9kFcsJE1Ie",
        "outputId": "a3a0674e-0f12-418f-b6bc-19bdec4530cb"
      },
      "execution_count": 265,
      "outputs": [
        {
          "output_type": "stream",
          "name": "stdout",
          "text": [
            "Requirement already satisfied: python-docx in /usr/local/lib/python3.11/dist-packages (1.1.2)\n",
            "Requirement already satisfied: lxml>=3.1.0 in /usr/local/lib/python3.11/dist-packages (from python-docx) (5.3.1)\n",
            "Requirement already satisfied: typing-extensions>=4.9.0 in /usr/local/lib/python3.11/dist-packages (from python-docx) (4.13.0)\n"
          ]
        }
      ]
    },
    {
      "cell_type": "code",
      "execution_count": 266,
      "metadata": {
        "id": "KL_fw9JM9LVB"
      },
      "outputs": [],
      "source": [
        "import torch\n",
        "import pandas as pd\n",
        "from torch.utils.data import Dataset, DataLoader\n",
        "from torchvision import transforms\n",
        "from transformers import BertTokenizer\n",
        "import os\n",
        "from docx import Document\n",
        "from sklearn.model_selection import StratifiedShuffleSplit\n",
        "import torch\n",
        "import torch.nn as nn\n",
        "import torch.optim as optim\n",
        "from torchvision import models\n",
        "from transformers import BertTokenizer, BertModel\n",
        "from PIL import Image\n",
        "import numpy as np\n",
        "from tqdm import tqdm\n",
        "from sklearn.metrics import f1_score, roc_auc_score, confusion_matrix\n",
        "import seaborn as sns\n",
        "import matplotlib.pyplot as plt"
      ]
    },
    {
      "cell_type": "markdown",
      "metadata": {
        "id": "NXhqN1fb9LVP"
      },
      "source": [
        "# Data Prep"
      ]
    },
    {
      "cell_type": "code",
      "execution_count": 267,
      "metadata": {
        "colab": {
          "base_uri": "https://localhost:8080/",
          "height": 122
        },
        "id": "p_sQiNfy9LVT",
        "outputId": "07f8caea-d71a-45d6-cc29-06ecc1c21880"
      },
      "outputs": [
        {
          "output_type": "execute_result",
          "data": {
            "text/plain": [
              "'\\n# redacted - not using clinical notes\\n\\n# Load and clean all clinical notes\\n#notes_path = \"data/notes\"\\nnotes_path = data_path + \\'/notes\\'\\ndef load_docx(file_path):\\n    \"\"\"Load a .docx file and extract text\"\"\"\\n    doc = Document(file_path)\\n    text = \"\\n\".join([para.text for para in doc.paragraphs])\\n    return text\\n\\ndef clean_clinical_text(text):\\n    \"\"\"Cleans clinical text for NLP processing.\"\"\"\\n    text = \"\\n\".join([line.strip() for line in text.split(\"\\n\") if line.strip()])\\n    text = text.lower()\\n    text = text.split(\"\\n\", 1)[1]\\n    text = text.replace(\"\\n\", \" \")\\n    return text\\n\\ndef load_clinical_notes(file_path):\\n    notes = {}\\n    for root, dirs, files in os.walk(file_path):\\n        for file in files:\\n            filename, file_extension = os.path.splitext(file)\\n            if file.endswith(\".docx\"):\\n                note = load_docx(os.path.join(root, file))\\n                note = clean_clinical_text(note)\\n                notes[filename] = note\\n    return notes\\n\\nd = load_clinical_notes(notes_path)\\n'"
            ],
            "application/vnd.google.colaboratory.intrinsic+json": {
              "type": "string"
            }
          },
          "metadata": {},
          "execution_count": 267
        }
      ],
      "source": [
        "'''\n",
        "# redacted - not using clinical notes\n",
        "\n",
        "# Load and clean all clinical notes\n",
        "#notes_path = \"data/notes\"\n",
        "notes_path = data_path + '/notes'\n",
        "def load_docx(file_path):\n",
        "    \"\"\"Load a .docx file and extract text\"\"\"\n",
        "    doc = Document(file_path)\n",
        "    text = \"\\n\".join([para.text for para in doc.paragraphs])\n",
        "    return text\n",
        "\n",
        "def clean_clinical_text(text):\n",
        "    \"\"\"Cleans clinical text for NLP processing.\"\"\"\n",
        "    text = \"\\n\".join([line.strip() for line in text.split(\"\\n\") if line.strip()])\n",
        "    text = text.lower()\n",
        "    text = text.split(\"\\n\", 1)[1]\n",
        "    text = text.replace(\"\\n\", \" \")\n",
        "    return text\n",
        "\n",
        "def load_clinical_notes(file_path):\n",
        "    notes = {}\n",
        "    for root, dirs, files in os.walk(file_path):\n",
        "        for file in files:\n",
        "            filename, file_extension = os.path.splitext(file)\n",
        "            if file.endswith(\".docx\"):\n",
        "                note = load_docx(os.path.join(root, file))\n",
        "                note = clean_clinical_text(note)\n",
        "                notes[filename] = note\n",
        "    return notes\n",
        "\n",
        "d = load_clinical_notes(notes_path)\n",
        "'''\n"
      ]
    },
    {
      "cell_type": "code",
      "execution_count": 268,
      "metadata": {
        "id": "vaIw_apR9LVU"
      },
      "outputs": [],
      "source": [
        "#image_folder = 'data/images/all'\n",
        "#notes_folder = 'data/notes'\n",
        "image_folder = data_path + '/images/all'\n",
        "notes_folder = data_path + '/notes'\n",
        "\n",
        "image_list = os.listdir(image_folder)\n",
        "\n",
        "def extract_image_id(image_path):\n",
        "    # image_path = 'P100_L_CM_MLO.jpg'\n",
        "    # Extract the image ID from the filename\n",
        "\n",
        "    # Assuming the image ID is the part before the first underscore\n",
        "    image_id = image_path.split('_')[0]\n",
        "    return image_id\n",
        "\n",
        "image_ids = [extract_image_id(image_path) for image_path in image_list]\n",
        "\n",
        "# create list of paths for all 503 images and their corresponding notes\n",
        "image_paths = [os.path.join(image_folder, image_path) for image_path in image_list]\n",
        "notes = [d[image_id] if image_id in d else None for image_id in image_ids]"
      ]
    },
    {
      "cell_type": "code",
      "execution_count": 269,
      "metadata": {
        "id": "DQSaJHuv9LVW"
      },
      "outputs": [],
      "source": [
        "# Now we have a list of image paths and their corresponding notes\n",
        "# Time to extract the corresponding labels from the CSV file\n",
        "\n",
        "# Length of image_paths, notes and labels = 503\n",
        "# Normal = 0\n",
        "# Benign = 1\n",
        "# Malignant = 2\n",
        "\n",
        "# Load the CSV file\n",
        "csv_path = data_path + '/clinical_data.csv'\n",
        "df = pd.read_csv(csv_path)\n",
        "labels = []\n",
        "notes = []\n",
        "encode = {'Benign': 1, 'Malignant': 2, 'Normal': 0}\n",
        "\n",
        "for id in image_list:\n",
        "    c = id.split('.')[0]\n",
        "\n",
        "    # extract row where column 'Image_name' = c and find pathology column\n",
        "    row = df[df['Image_name'] == c]\n",
        "    if not row.empty:\n",
        "        finding = row['Findings'].iloc[0]\n",
        "        notes.append(finding)\n",
        "\n",
        "        pathology = row['Pathology Classification/ Follow up'].values[0]\n",
        "        encode_pathology = encode.get(pathology, None)\n",
        "        if encode_pathology is not None:\n",
        "            labels.append(encode_pathology)\n",
        "        else:\n",
        "            # If the pathology is not in the encode dictionary, append None\n",
        "            print(f\"Pathology '{pathology}' not found in encoding dictionary for image {c}.\")\n",
        "    else:\n",
        "        print(c)\n",
        "        print(f\"No matching row found in CSV for image {c}\")"
      ]
    },
    {
      "cell_type": "code",
      "execution_count": 270,
      "metadata": {
        "colab": {
          "base_uri": "https://localhost:8080/"
        },
        "id": "64ipl9UL9LVX",
        "outputId": "db774c33-b46d-4edc-965f-9cf1751aa8db"
      },
      "outputs": [
        {
          "output_type": "stream",
          "name": "stdout",
          "text": [
            "Length of image_paths: 503\n",
            "Length of notes: 503\n",
            "Length of labels: 503\n",
            "Normal:  207\n",
            "Benign:  128\n",
            "Malignant:  168\n"
          ]
        }
      ],
      "source": [
        "# Check if the lengths of image_paths, notes, and labels match\n",
        "print(f\"Length of image_paths: {len(image_paths)}\")\n",
        "print(f\"Length of notes: {len(notes)}\")\n",
        "print(f\"Length of labels: {len(labels)}\")\n",
        "\n",
        "print(\"Normal: \", labels.count(0))\n",
        "print(\"Benign: \", labels.count(1))\n",
        "print(\"Malignant: \", labels.count(2))"
      ]
    },
    {
      "cell_type": "markdown",
      "metadata": {
        "id": "PEw5qisd9LVa"
      },
      "source": [
        "# Dataset"
      ]
    },
    {
      "cell_type": "code",
      "execution_count": 271,
      "metadata": {
        "id": "f5NeRkE_9LVf"
      },
      "outputs": [],
      "source": [
        "# ============================\n",
        "#    Custom Dataset Class\n",
        "# ============================\n",
        "class CancerDataset(Dataset):\n",
        "    def __init__(self, image_paths, notes, labels, tokenizer, max_len, transform=None):\n",
        "        self.image_paths = image_paths\n",
        "        self.notes = notes\n",
        "        self.labels = labels\n",
        "        self.tokenizer = tokenizer\n",
        "        self.max_len = max_len\n",
        "        self.transform = transform\n",
        "\n",
        "    def __len__(self):\n",
        "        return len(self.labels)\n",
        "\n",
        "    def __getitem__(self, idx):\n",
        "        # Load Image\n",
        "        img_path = self.image_paths[idx]\n",
        "        image = Image.open(img_path).convert('RGB')\n",
        "        if self.transform:\n",
        "            image = self.transform(image) # apply resize / normalization / convert to tensor\n",
        "\n",
        "        # Tokenize Clinical Notes\n",
        "        text = str(self.notes[idx])\n",
        "        encoding = self.tokenizer(text, padding='max_length', truncation=True, max_length=self.max_len, return_tensors='pt')\n",
        "        input_ids = encoding['input_ids'].squeeze(0)  # (max_len,)\n",
        "        attention_mask = encoding['attention_mask'].squeeze(0)\n",
        "\n",
        "        # Label\n",
        "        label = torch.tensor(self.labels[idx], dtype=torch.long)\n",
        "\n",
        "        return image, input_ids, attention_mask, label"
      ]
    },
    {
      "cell_type": "markdown",
      "metadata": {
        "id": "6yJvbnJW9LVg"
      },
      "source": [
        "# Feature Extraction"
      ]
    },
    {
      "cell_type": "code",
      "execution_count": 272,
      "metadata": {
        "id": "mQcC8N049LVi"
      },
      "outputs": [],
      "source": [
        "# ============================\n",
        "#    Feature Extractors\n",
        "# ============================\n",
        "class FeatureExtractor(nn.Module):\n",
        "    def __init__(self):\n",
        "        super(FeatureExtractor, self).__init__()\n",
        "        resnet = models.resnet18(pretrained=True)\n",
        "        self.cnn = nn.Sequential(*list(resnet.children())[:-1])  # Remove last FC layer\n",
        "        self.bert = BertModel.from_pretrained('bert-base-uncased')\n",
        "\n",
        "    def forward(self, image, input_ids, attention_mask):\n",
        "        # Image Features\n",
        "        img_feat = self.cnn(image).flatten(1)  # (batch, 512)\n",
        "\n",
        "        # Text Features\n",
        "        text_outputs = self.bert(input_ids=input_ids, attention_mask=attention_mask)\n",
        "        text_feat = text_outputs.last_hidden_state[:, 0, :]  # CLS token (batch, 768)\n",
        "\n",
        "        return img_feat, text_feat"
      ]
    },
    {
      "cell_type": "markdown",
      "metadata": {
        "id": "2qOs-6bp9LVj"
      },
      "source": [
        "# Fusion"
      ]
    },
    {
      "cell_type": "code",
      "source": [
        "'''\n",
        "# self-attention\n",
        "\n",
        "class CAM(nn.Module):\n",
        "    def __init__(self):\n",
        "        super(CAM, self).__init__()\n",
        "        self.encoder1 = nn.Linear(512, 128)  # Image\n",
        "        self.encoder2 = nn.Linear(768, 128)  # Text\n",
        "        self.affine_a = nn.Linear(128, 128, bias=False)\n",
        "        self.affine_v = nn.Linear(128, 128, bias=False)\n",
        "        self.W_ca = nn.Linear(128, 32, bias=False)  # Cross attention weight for image\n",
        "        self.W_cv = nn.Linear(128, 32, bias=False)  # Cross attention weight for text\n",
        "        self.W_ha = nn.Linear(32, 128, bias=False)  # Attention map weight for image\n",
        "        self.W_hv = nn.Linear(32, 128, bias=False)  # Attention map weight for text\n",
        "        self.relu = nn.ReLU()\n",
        "\n",
        "        # Fully connected layers for final prediction\n",
        "        self.regressor = nn.Sequential(\n",
        "            nn.Linear(256, 128),\n",
        "            nn.ReLU(),\n",
        "            nn.Linear(128, 3),  # 3 classes: Normal, Benign, Malignant\n",
        "        )\n",
        "\n",
        "    def forward(self, img_feat, text_feat):\n",
        "        # Image and text feature encoders\n",
        "        img_feat = self.encoder1(img_feat)  # X_v (image)\n",
        "        text_feat = self.encoder2(text_feat)  # X_a (text)\n",
        "\n",
        "        # Attention calculation for both modalities\n",
        "        att_img = self.affine_a(img_feat)\n",
        "        att_text = self.affine_v(text_feat)\n",
        "\n",
        "        # Joint attention for both modalities (image and text)\n",
        "        H_a = self.relu(self.W_ca(att_img))\n",
        "        H_v = self.relu(self.W_cv(att_text))\n",
        "\n",
        "        # Attending to features (modulation based on attention maps)\n",
        "        img_out = self.W_ha(H_a) + img_feat\n",
        "        text_out = self.W_hv(H_v) + text_feat\n",
        "\n",
        "        # Fusing the attended features (concatenation)\n",
        "        fused_feat = torch.cat((img_out, text_out), dim=1)\n",
        "\n",
        "        # Final regression to get prediction\n",
        "        output = self.regressor(fused_feat)\n",
        "        return output\n",
        "'''"
      ],
      "metadata": {
        "colab": {
          "base_uri": "https://localhost:8080/",
          "height": 122
        },
        "id": "iqFu2C6AWgSq",
        "outputId": "f1b85d5c-3b25-48c2-fff8-46ce2d42cb56"
      },
      "execution_count": 273,
      "outputs": [
        {
          "output_type": "execute_result",
          "data": {
            "text/plain": [
              "'\\n# self-attention\\n\\nclass CAM(nn.Module):\\n    def __init__(self):\\n        super(CAM, self).__init__()\\n        self.encoder1 = nn.Linear(512, 128)  # Image\\n        self.encoder2 = nn.Linear(768, 128)  # Text\\n        self.affine_a = nn.Linear(128, 128, bias=False)\\n        self.affine_v = nn.Linear(128, 128, bias=False)\\n        self.W_ca = nn.Linear(128, 32, bias=False)  # Cross attention weight for image\\n        self.W_cv = nn.Linear(128, 32, bias=False)  # Cross attention weight for text\\n        self.W_ha = nn.Linear(32, 128, bias=False)  # Attention map weight for image\\n        self.W_hv = nn.Linear(32, 128, bias=False)  # Attention map weight for text\\n        self.relu = nn.ReLU()\\n\\n        # Fully connected layers for final prediction\\n        self.regressor = nn.Sequential(\\n            nn.Linear(256, 128),\\n            nn.ReLU(),\\n            nn.Linear(128, 3),  # 3 classes: Normal, Benign, Malignant\\n        )\\n    \\n    def forward(self, img_feat, text_feat):\\n        # Image and text feature encoders\\n        img_feat = self.encoder1(img_feat)  # X_v (image)\\n        text_feat = self.encoder2(text_feat)  # X_a (text)\\n\\n        # Attention calculation for both modalities\\n        att_img = self.affine_a(img_feat)\\n        att_text = self.affine_v(text_feat)\\n\\n        # Joint attention for both modalities (image and text)\\n        H_a = self.relu(self.W_ca(att_img))\\n        H_v = self.relu(self.W_cv(att_text))\\n\\n        # Attending to features (modulation based on attention maps)\\n        img_out = self.W_ha(H_a) + img_feat\\n        text_out = self.W_hv(H_v) + text_feat\\n\\n        # Fusing the attended features (concatenation)\\n        fused_feat = torch.cat((img_out, text_out), dim=1)\\n\\n        # Final regression to get prediction\\n        output = self.regressor(fused_feat)\\n        return output\\n'"
            ],
            "application/vnd.google.colaboratory.intrinsic+json": {
              "type": "string"
            }
          },
          "metadata": {},
          "execution_count": 273
        }
      ]
    },
    {
      "cell_type": "code",
      "execution_count": 274,
      "metadata": {
        "id": "CxdHlkQg9LVj"
      },
      "outputs": [],
      "source": [
        "class CAM(nn.Module):\n",
        "    def __init__(self, embed_dim=128, num_heads=4):\n",
        "        super(CAM, self).__init__()\n",
        "\n",
        "        reduced_dim = embed_dim # continue same dim\n",
        "\n",
        "        # Enhanced projection layers with dropout\n",
        "        self.img_proj = nn.Sequential(\n",
        "            nn.Linear(512, embed_dim),\n",
        "            nn.Dropout(0.3)  # Added input dropout\n",
        "        )\n",
        "        self.text_proj = nn.Sequential(\n",
        "            nn.Linear(768, embed_dim),\n",
        "            nn.Dropout(0.3)\n",
        "        )\n",
        "\n",
        "        # Pre-normalization layers\n",
        "        self.norm1 = nn.LayerNorm(embed_dim)\n",
        "        self.norm2 = nn.LayerNorm(embed_dim)\n",
        "\n",
        "        # Cross-attention modules with increased dropout\n",
        "        self.img2text_attn = nn.MultiheadAttention(\n",
        "            embed_dim, num_heads, batch_first=True, dropout=0.3\n",
        "        )\n",
        "        self.text2img_attn = nn.MultiheadAttention(\n",
        "            embed_dim, num_heads, batch_first=True, dropout=0.3\n",
        "        )\n",
        "\n",
        "        # Feature processing with additional regularization\n",
        "        self.img_fc = nn.Sequential(\n",
        "            nn.Linear(embed_dim, reduced_dim),\n",
        "            nn.GELU(),\n",
        "            nn.Dropout(0.3),  # Added feature dropout\n",
        "            nn.LayerNorm(reduced_dim)\n",
        "        )\n",
        "        self.text_fc = nn.Sequential(\n",
        "            nn.Linear(embed_dim, reduced_dim),\n",
        "            nn.GELU(),\n",
        "            nn.Dropout(0.3),\n",
        "            nn.LayerNorm(reduced_dim)\n",
        "        )\n",
        "\n",
        "        # Simplified regressor with stronger dropout\n",
        "        self.regressor = nn.Sequential(\n",
        "            nn.Linear(2 * reduced_dim, 64),\n",
        "            nn.GELU(),\n",
        "            nn.Dropout(0.5),  # Increased dropout\n",
        "            nn.Linear(64, 3)\n",
        "        )\n",
        "\n",
        "    def forward(self, img_feat, text_feat):\n",
        "        # Project features with dropout\n",
        "        img_proj = self.img_proj(img_feat).unsqueeze(1)\n",
        "        text_proj = self.text_proj(text_feat).unsqueeze(1)\n",
        "\n",
        "        # Pre-normalization\n",
        "        img_norm = self.norm1(img_proj)\n",
        "        text_norm = self.norm2(text_proj)\n",
        "\n",
        "        # Cross-attention with residual connections\n",
        "        img_attn_out, _ = self.img2text_attn(\n",
        "            query=img_norm,\n",
        "            key=text_norm,\n",
        "            value=text_norm\n",
        "        )\n",
        "        img_attn_out = img_proj + img_attn_out  # Residual connection\n",
        "\n",
        "        text_attn_out, _ = self.text2img_attn(\n",
        "            query=text_norm,\n",
        "            key=img_norm,\n",
        "            value=img_norm\n",
        "        )\n",
        "        text_attn_out = text_proj + text_attn_out\n",
        "\n",
        "        # Process and fuse features\n",
        "        img_processed = self.img_fc(img_attn_out.squeeze(1))\n",
        "        text_processed = self.text_fc(text_attn_out.squeeze(1))\n",
        "\n",
        "        fused = torch.cat([img_processed, text_processed], dim=1)\n",
        "        return self.regressor(fused)"
      ]
    },
    {
      "cell_type": "markdown",
      "metadata": {
        "id": "7h3dJHXX9LVl"
      },
      "source": [
        "# Training set up"
      ]
    },
    {
      "cell_type": "code",
      "execution_count": 275,
      "metadata": {
        "colab": {
          "base_uri": "https://localhost:8080/"
        },
        "id": "tNfJKAHu9LVl",
        "outputId": "54c5c68a-9b13-4c66-9c26-d73d4f102c6d"
      },
      "outputs": [
        {
          "output_type": "stream",
          "name": "stdout",
          "text": [
            "Length of image_paths:  503\n",
            "Length of notes:  503\n",
            "Length of labels:  503\n"
          ]
        },
        {
          "output_type": "execute_result",
          "data": {
            "text/plain": [
              "0"
            ]
          },
          "metadata": {},
          "execution_count": 275
        }
      ],
      "source": [
        "# we already have the image paths, notes and labels\n",
        "image_paths = [i.replace('\\\\', '/') for i in image_paths]\n",
        "\n",
        "print(\"Length of image_paths: \", len(image_paths))\n",
        "print(\"Length of notes: \", len(notes))\n",
        "print(\"Length of labels: \", len(labels))\n",
        "\n",
        "# check for None values in labels\n",
        "labels.count(None)  # should be 0"
      ]
    },
    {
      "cell_type": "code",
      "execution_count": 276,
      "metadata": {
        "id": "Srr7PSvD9LVm"
      },
      "outputs": [],
      "source": [
        "# Hyperparameters\n",
        "BATCH_SIZE = 16\n",
        "MAX_LEN = 128\n",
        "EPOCHS = 40\n",
        "LEARNING_RATE = 1e-4\n",
        "\n",
        "# Data Transformations\n",
        "transform = transforms.Compose([\n",
        "    transforms.Resize((224, 224)),\n",
        "    transforms.ToTensor(),\n",
        "    transforms.Normalize([0.485, 0.456, 0.406], [0.229, 0.224, 0.225])\n",
        "])\n",
        "\n",
        "# Tokenizer\n",
        "tokenizer = BertTokenizer.from_pretrained('bert-base-uncased')\n",
        "'''\n",
        "# Split the image_paths,notes and labels\n",
        "sss = StratifiedShuffleSplit(n_splits=1, test_size=0.2, random_state=42)\n",
        "for train_index, val_index in sss.split(image_paths, labels):\n",
        "    train_image_paths, val_image_paths = [image_paths[i] for i in train_index], [image_paths[i] for i in val_index]\n",
        "    train_notes, val_notes = [notes[i] for i in train_index], [notes[i] for i in val_index]\n",
        "    train_labels, val_labels = [labels[i] for i in train_index], [labels[i] for i in val_index]\n",
        "\n",
        "\n",
        "# Create the training and validation datasets\n",
        "train_dataset = CancerDataset(train_image_paths, train_notes, train_labels, tokenizer, MAX_LEN, transform)\n",
        "val_dataset = CancerDataset(val_image_paths, val_notes, val_labels, tokenizer, MAX_LEN, transform)\n",
        "\n",
        "# DataLoader\n",
        "train_loader = DataLoader(train_dataset, batch_size=BATCH_SIZE, shuffle=True)\n",
        "val_loader = DataLoader(val_dataset, batch_size=BATCH_SIZE, shuffle=False)\n",
        "'''\n",
        "\n",
        "# to align with marcus train test split\n",
        "val_list = ['P251_R_CM_MLO', 'P55_R_CM_MLO', 'P261_L_CM_MLO', 'P96_R_CM_MLO', 'P111_R_CM_MLO', 'P281_R_CM_MLO', 'P278_L_CM_MLO', 'P280_L_CM_MLO', 'P110_L_CM_MLO', 'P59_R_CM_MLO', 'P155_L_CM_MLO', 'P318_R_CM_MLO', 'P131_L_CM_MLO', 'P123_R_CM_MLO', 'P1_L_CM_MLO', 'P322_L_CM_MLO', 'P271_L_CM_MLO', 'P56_L_CM_MLO', 'P246_R_CM_MLO', 'P16_R_CM_MLO', 'P214_L_CM_MLO', 'P213_L_CM_MLO', 'P230_R_CM_MLO', 'P288_L_CM_MLO', 'P312_L_CM_MLO', 'P193_L_CM_MLO', 'P139_R_CM_MLO', 'P46_L_CM_MLO', 'P179_L_CM_MLO', 'P148_R_CM_MLO', 'P62_L_CM_MLO', 'P210_L_CM_MLO', 'P40_R_CM_MLO', 'P138_L_CM_MLO', 'P311_L_CM_MLO', 'P71_L_CM_MLO', 'P104_L_CM_MLO', 'P295_L_CM_MLO', 'P295_R_CM_MLO', 'P161_L_CM_MLO', 'P2_L_CM_MLO', 'P80_L_CM_MLO', 'P228_L_CM_MLO', 'P319_R_CM_MLO', 'P319_L_CM_MLO', 'P128_L_CM_MLO', 'P182_R_CM_MLO', 'P271_R_CM_MLO', 'P61_L_CM_MLO', 'P21_R_CM_MLO', 'P236_L_CM_MLO', 'P196_L_CM_MLO', 'P11_R_CM_MLO', 'P324_R_CM_MLO', 'P191_R_CM_MLO', 'P67_R_CM_MLO', 'P270_R_CM_MLO', 'P307_R_CM_MLO', 'P181_R_CM_MLO', 'P8_L_CM_MLO', 'P54_L_CM_MLO', 'P14_L_CM_MLO', 'P65_R_CM_MLO', 'P77_L_CM_MLO', 'P310_R_CM_MLO', 'P302_R_CM_MLO', 'P52_R_CM_MLO', 'P52_L_CM_MLO', 'P226_R_CM_MLO', 'P273_R_CM_MLO', 'P226_L_CM_MLO', 'P24_L_CM_MLO', 'P29_R_CM_MLO', 'P175_R_CM_MLO', 'P58_L_CM_MLO', 'P127_L_CM_MLO', 'P59_L_CM_MLO', 'P268_R_CM_MLO', 'P282_L_CM_MLO', 'P92_R_CM_MLO', 'P123_L_CM_MLO', 'P219_L_CM_MLO', 'P7_R_CM_MLO', 'P146_L_CM_MLO', 'P291_L_CM_MLO', 'P322_R_CM_MLO', 'P207_R_CM_MLO', 'P190_R_CM_MLO', 'P197_L_CM_MLO', 'P215_R_CM_MLO', 'P325_L_CM_MLO', 'P33_L_CM_MLO', 'P276_R_CM_MLO', 'P51_L_CM_MLO', 'P324_L_CM_MLO', 'P206_R_CM_MLO', 'P56_R_CM_MLO', 'P237_R_CM_MLO', 'P312_R_CM_MLO', 'P158_L_CM_MLO', 'P230_L_CM_MLO']\n",
        "\n",
        "train_indexes = []\n",
        "val_indexes = []\n",
        "\n",
        "for i in range(len(image_paths)):\n",
        "  path = image_paths[i]\n",
        "  id = path.split('/')[-1].split('.')[0]\n",
        "  if id in val_list:\n",
        "    val_indexes.append(i)\n",
        "  else:\n",
        "    train_indexes.append(i)\n"
      ]
    },
    {
      "cell_type": "code",
      "source": [
        "# Split data based on indexes\n",
        "train_image_paths = [image_paths[i] for i in train_indexes]\n",
        "train_notes = [notes[i] for i in train_indexes]\n",
        "train_labels = [labels[i] for i in train_indexes]\n",
        "\n",
        "val_image_paths = [image_paths[i] for i in val_indexes]\n",
        "val_notes = [notes[i] for i in val_indexes]\n",
        "val_labels = [labels[i] for i in val_indexes]\n",
        "\n",
        "# Create Datasets\n",
        "train_dataset = CancerDataset(train_image_paths, train_notes, train_labels, tokenizer, MAX_LEN, transform)\n",
        "val_dataset = CancerDataset(val_image_paths, val_notes, val_labels, tokenizer, MAX_LEN, transform)\n",
        "\n",
        "# Create Dataloaders\n",
        "train_loader = DataLoader(train_dataset, batch_size=BATCH_SIZE, shuffle=True)\n",
        "val_loader = DataLoader(val_dataset, batch_size=BATCH_SIZE, shuffle=False)\n"
      ],
      "metadata": {
        "id": "V3rv4fbhU66c"
      },
      "execution_count": 277,
      "outputs": []
    },
    {
      "cell_type": "markdown",
      "metadata": {
        "id": "ZRFtK1p19LVn"
      },
      "source": [
        "# Train and Test"
      ]
    },
    {
      "cell_type": "code",
      "execution_count": 278,
      "metadata": {
        "colab": {
          "base_uri": "https://localhost:8080/",
          "height": 122
        },
        "id": "d-N2rUc39LVn",
        "outputId": "0e624432-3527-45af-f031-3cdf4fd2a278"
      },
      "outputs": [
        {
          "output_type": "execute_result",
          "data": {
            "text/plain": [
              "'\\ndevice = torch.device(\\'cuda\\' if torch.cuda.is_available() else \\'cpu\\')\\nextractor = FeatureExtractor().to(device)\\ncam_model = CAM().to(device)\\n\\n# Use CrossEntropyLoss for multi-class classification\\ncriterion = nn.CrossEntropyLoss()\\n\\n# Adam optimizer\\noptimizer = optim.Adam(cam_model.parameters(), lr=LEARNING_RATE)\\n# ============================\\n\\n\\n#    Training Loop\\n# ============================\\n\\nbest_val_acc = 0.0  # Track the best validation accuracy\\nbest_val_auc = 0.0  # Track the best validation AUC score\\n\\nfor epoch in range(EPOCHS):\\n    cam_model.train()\\n    extractor.train()\\n    total_loss = 0\\n    correct_preds = 0\\n    total_preds = 0\\n    all_preds = []\\n    all_labels = []\\n    \\n    for images, input_ids, attention_mask, labels in tqdm(train_loader, desc=f\"Epoch {epoch+1}/{EPOCHS}\"):\\n        images, input_ids, attention_mask, labels = images.to(device), input_ids.to(device), attention_mask.to(device), labels.to(device)\\n        \\n        optimizer.zero_grad()\\n        \\n        # Feature extraction\\n        img_feat, text_feat = extractor(images, input_ids, attention_mask)\\n        \\n        # CAM model forward pass\\n        outputs = cam_model(img_feat, text_feat)  # Multi-class outputs (logits)\\n        \\n        # Check if the output is a 2D tensor with shape [batch_size, num_classes]\\n        assert outputs.shape[1] == 3, f\"Expected 3 classes in output, but got {outputs.shape[1]}\"\\n        # Loss calculation (CrossEntropyLoss expects raw logits)\\n        loss = criterion(outputs, labels)\\n        loss.backward()\\n        optimizer.step()\\n        \\n        total_loss += loss.item()\\n        \\n        # Calculate accuracy\\n        _, predicted_labels = torch.max(outputs, 1)  # Get the class with the highest probability\\n        correct_preds += (predicted_labels == labels).sum().item()\\n        total_preds += labels.size(0)\\n\\n        # For AUC-ROC calculation, we need probabilities\\n        probs = torch.nn.functional.softmax(outputs, dim=1)\\n        all_preds.append(probs.cpu().detach().numpy())\\n        all_labels.append(labels.cpu().detach().numpy())\\n\\n    train_acc = correct_preds / total_preds\\n    all_preds = np.concatenate(all_preds, axis=0)\\n    all_labels = np.concatenate(all_labels, axis=0)\\n\\n    # Compute AUC-ROC score\\n    train_auc = roc_auc_score(all_labels, all_preds, multi_class=\\'ovr\\', average=\\'macro\\')\\n    \\n    print(f\"Epoch {epoch+1}/{EPOCHS}, Loss: {total_loss/len(train_loader):.4f}, Training Accuracy: {train_acc:.4f}, Training AUC-ROC: {train_auc:.4f}\")\\n    \\n    # ============================\\n    # Validation Loop\\n    # ============================\\n    cam_model.eval()  # Switch to evaluation mode\\n    val_correct_preds = 0\\n    val_total_preds = 0\\n    val_all_preds = []\\n    val_all_labels = []\\n    with torch.no_grad():\\n        for images, input_ids, attention_mask, labels in tqdm(val_loader, desc=f\"Validation Epoch {epoch+1}/{EPOCHS}\"):\\n            images, input_ids, attention_mask, labels = images.to(device), input_ids.to(device), attention_mask.to(device), labels.to(device)\\n            \\n            # Feature extraction\\n            img_feat, text_feat = extractor(images, input_ids, attention_mask)\\n            \\n            # CAM model forward pass\\n            outputs = cam_model(img_feat, text_feat)  # Multi-class outputs (logits)\\n            \\n            # Calculate accuracy\\n            _, predicted_labels = torch.max(outputs, 1)  # Get the class with the highest probability\\n            val_correct_preds += (predicted_labels == labels).sum().item()\\n            val_total_preds += labels.size(0)\\n\\n            # For AUC-ROC calculation, we need probabilities\\n            probs = torch.nn.functional.softmax(outputs, dim=1)\\n            val_all_preds.append(probs.cpu().detach().numpy())\\n            val_all_labels.append(labels.cpu().detach().numpy())\\n    \\n    val_acc = val_correct_preds / val_total_preds\\n    val_all_preds = np.concatenate(val_all_preds, axis=0)\\n    val_all_labels = np.concatenate(val_all_labels, axis=0)\\n\\n    # Compute AUC-ROC score for validation\\n    val_auc = roc_auc_score(val_all_labels, val_all_preds, multi_class=\\'ovr\\', average=\\'macro\\')\\n    \\n    print(f\"Epoch {epoch+1}/{EPOCHS}, Validation Accuracy: {val_acc:.4f}, Validation AUC-ROC: {val_auc:.4f}\")\\n    \\n    # Save the best model based on validation accuracy or AUC\\n    if val_acc > best_val_acc or val_auc > best_val_auc:\\n        best_val_acc = val_acc\\n        best_val_auc = val_auc\\n        torch.save(cam_model.state_dict(), \"best_cancer_cam_model.pth\")\\n        print(f\"Saved best model with Validation Accuracy: {val_acc:.4f} and Validation AUC-ROC: {val_auc:.4f}\")\\n    '"
            ],
            "application/vnd.google.colaboratory.intrinsic+json": {
              "type": "string"
            }
          },
          "metadata": {},
          "execution_count": 278
        }
      ],
      "source": [
        "'''\n",
        "device = torch.device('cuda' if torch.cuda.is_available() else 'cpu')\n",
        "extractor = FeatureExtractor().to(device)\n",
        "cam_model = CAM().to(device)\n",
        "\n",
        "# Use CrossEntropyLoss for multi-class classification\n",
        "criterion = nn.CrossEntropyLoss()\n",
        "\n",
        "# Adam optimizer\n",
        "optimizer = optim.Adam(cam_model.parameters(), lr=LEARNING_RATE)\n",
        "# ============================\n",
        "\n",
        "\n",
        "#    Training Loop\n",
        "# ============================\n",
        "\n",
        "best_val_acc = 0.0  # Track the best validation accuracy\n",
        "best_val_auc = 0.0  # Track the best validation AUC score\n",
        "\n",
        "for epoch in range(EPOCHS):\n",
        "    cam_model.train()\n",
        "    extractor.train()\n",
        "    total_loss = 0\n",
        "    correct_preds = 0\n",
        "    total_preds = 0\n",
        "    all_preds = []\n",
        "    all_labels = []\n",
        "\n",
        "    for images, input_ids, attention_mask, labels in tqdm(train_loader, desc=f\"Epoch {epoch+1}/{EPOCHS}\"):\n",
        "        images, input_ids, attention_mask, labels = images.to(device), input_ids.to(device), attention_mask.to(device), labels.to(device)\n",
        "\n",
        "        optimizer.zero_grad()\n",
        "\n",
        "        # Feature extraction\n",
        "        img_feat, text_feat = extractor(images, input_ids, attention_mask)\n",
        "\n",
        "        # CAM model forward pass\n",
        "        outputs = cam_model(img_feat, text_feat)  # Multi-class outputs (logits)\n",
        "\n",
        "        # Check if the output is a 2D tensor with shape [batch_size, num_classes]\n",
        "        assert outputs.shape[1] == 3, f\"Expected 3 classes in output, but got {outputs.shape[1]}\"\n",
        "        # Loss calculation (CrossEntropyLoss expects raw logits)\n",
        "        loss = criterion(outputs, labels)\n",
        "        loss.backward()\n",
        "        optimizer.step()\n",
        "\n",
        "        total_loss += loss.item()\n",
        "\n",
        "        # Calculate accuracy\n",
        "        _, predicted_labels = torch.max(outputs, 1)  # Get the class with the highest probability\n",
        "        correct_preds += (predicted_labels == labels).sum().item()\n",
        "        total_preds += labels.size(0)\n",
        "\n",
        "        # For AUC-ROC calculation, we need probabilities\n",
        "        probs = torch.nn.functional.softmax(outputs, dim=1)\n",
        "        all_preds.append(probs.cpu().detach().numpy())\n",
        "        all_labels.append(labels.cpu().detach().numpy())\n",
        "\n",
        "    train_acc = correct_preds / total_preds\n",
        "    all_preds = np.concatenate(all_preds, axis=0)\n",
        "    all_labels = np.concatenate(all_labels, axis=0)\n",
        "\n",
        "    # Compute AUC-ROC score\n",
        "    train_auc = roc_auc_score(all_labels, all_preds, multi_class='ovr', average='macro')\n",
        "\n",
        "    print(f\"Epoch {epoch+1}/{EPOCHS}, Loss: {total_loss/len(train_loader):.4f}, Training Accuracy: {train_acc:.4f}, Training AUC-ROC: {train_auc:.4f}\")\n",
        "\n",
        "    # ============================\n",
        "    # Validation Loop\n",
        "    # ============================\n",
        "    cam_model.eval()  # Switch to evaluation mode\n",
        "    val_correct_preds = 0\n",
        "    val_total_preds = 0\n",
        "    val_all_preds = []\n",
        "    val_all_labels = []\n",
        "    with torch.no_grad():\n",
        "        for images, input_ids, attention_mask, labels in tqdm(val_loader, desc=f\"Validation Epoch {epoch+1}/{EPOCHS}\"):\n",
        "            images, input_ids, attention_mask, labels = images.to(device), input_ids.to(device), attention_mask.to(device), labels.to(device)\n",
        "\n",
        "            # Feature extraction\n",
        "            img_feat, text_feat = extractor(images, input_ids, attention_mask)\n",
        "\n",
        "            # CAM model forward pass\n",
        "            outputs = cam_model(img_feat, text_feat)  # Multi-class outputs (logits)\n",
        "\n",
        "            # Calculate accuracy\n",
        "            _, predicted_labels = torch.max(outputs, 1)  # Get the class with the highest probability\n",
        "            val_correct_preds += (predicted_labels == labels).sum().item()\n",
        "            val_total_preds += labels.size(0)\n",
        "\n",
        "            # For AUC-ROC calculation, we need probabilities\n",
        "            probs = torch.nn.functional.softmax(outputs, dim=1)\n",
        "            val_all_preds.append(probs.cpu().detach().numpy())\n",
        "            val_all_labels.append(labels.cpu().detach().numpy())\n",
        "\n",
        "    val_acc = val_correct_preds / val_total_preds\n",
        "    val_all_preds = np.concatenate(val_all_preds, axis=0)\n",
        "    val_all_labels = np.concatenate(val_all_labels, axis=0)\n",
        "\n",
        "    # Compute AUC-ROC score for validation\n",
        "    val_auc = roc_auc_score(val_all_labels, val_all_preds, multi_class='ovr', average='macro')\n",
        "\n",
        "    print(f\"Epoch {epoch+1}/{EPOCHS}, Validation Accuracy: {val_acc:.4f}, Validation AUC-ROC: {val_auc:.4f}\")\n",
        "\n",
        "    # Save the best model based on validation accuracy or AUC\n",
        "    if val_acc > best_val_acc or val_auc > best_val_auc:\n",
        "        best_val_acc = val_acc\n",
        "        best_val_auc = val_auc\n",
        "        torch.save(cam_model.state_dict(), \"best_cancer_cam_model.pth\")\n",
        "        print(f\"Saved best model with Validation Accuracy: {val_acc:.4f} and Validation AUC-ROC: {val_auc:.4f}\")\n",
        "    '''\n"
      ]
    },
    {
      "cell_type": "code",
      "source": [
        "device = torch.device('cuda' if torch.cuda.is_available() else 'cpu')\n",
        "extractor = FeatureExtractor().to(device)\n",
        "cam_model = CAM().to(device)\n",
        "\n",
        "# Use CrossEntropyLoss for multi-class classification\n",
        "criterion = nn.CrossEntropyLoss()\n",
        "\n",
        "# Adam optimizer\n",
        "optimizer = optim.Adam(cam_model.parameters(),\n",
        "                       lr=LEARNING_RATE,\n",
        "                       weight_decay=1e-2) # L2\n",
        "\n",
        "best_val_acc = 0.0\n",
        "best_val_auc = 0.0\n",
        "best_val_f1 = 0.0\n",
        "best_conf_matrix = None\n",
        "\n",
        "for epoch in range(EPOCHS):\n",
        "    cam_model.train()\n",
        "    extractor.train()\n",
        "    total_loss = 0\n",
        "    correct_preds = 0\n",
        "    total_preds = 0\n",
        "    all_preds = []\n",
        "    all_labels = []\n",
        "\n",
        "    for images, input_ids, attention_mask, labels in tqdm(train_loader, desc=f\"Epoch {epoch+1}/{EPOCHS}\"):\n",
        "        images, input_ids, attention_mask, labels = images.to(device), input_ids.to(device), attention_mask.to(device), labels.to(device)\n",
        "\n",
        "        optimizer.zero_grad()\n",
        "\n",
        "        # Feature extraction\n",
        "        img_feat, text_feat = extractor(images, input_ids, attention_mask)\n",
        "\n",
        "        # CAM model forward pass\n",
        "        outputs = cam_model(img_feat, text_feat)  # Multi-class outputs (logits)\n",
        "\n",
        "        assert outputs.shape[1] == 3, f\"Expected 3 classes in output, but got {outputs.shape[1]}\"\n",
        "\n",
        "        # Loss calculation\n",
        "        loss = criterion(outputs, labels)\n",
        "        loss.backward()\n",
        "        optimizer.step()\n",
        "\n",
        "        total_loss += loss.item()\n",
        "\n",
        "        # Compute predictions\n",
        "        _, predicted_labels = torch.max(outputs, 1)\n",
        "        correct_preds += (predicted_labels == labels).sum().item()\n",
        "        total_preds += labels.size(0)\n",
        "\n",
        "        all_preds.append(torch.nn.functional.softmax(outputs, dim=1).cpu().detach().numpy())  # Probabilities\n",
        "        all_labels.append(labels.cpu().detach().numpy())\n",
        "\n",
        "    train_acc = correct_preds / total_preds\n",
        "    all_preds = np.concatenate(all_preds, axis=0)\n",
        "    all_labels = np.concatenate(all_labels, axis=0)\n",
        "\n",
        "    train_f1 = f1_score(all_labels, np.argmax(all_preds, axis=1), average='macro')\n",
        "    train_auc = roc_auc_score(all_labels, all_preds, multi_class='ovr', average='macro')\n",
        "\n",
        "    print(f\"Epoch {epoch+1}/{EPOCHS}, Loss: {total_loss/len(train_loader):.4f}, Training Accuracy: {train_acc:.4f}, Training F1-score: {train_f1:.4f}, Training AUC-ROC: {train_auc:.4f}\")\n",
        "\n",
        "    # ============================\n",
        "    # Validation Loop\n",
        "    # ============================\n",
        "    cam_model.eval()\n",
        "    val_correct_preds = 0\n",
        "    val_total_preds = 0\n",
        "    val_all_preds = []\n",
        "    val_all_labels = []\n",
        "\n",
        "    with torch.no_grad():\n",
        "        for images, input_ids, attention_mask, labels in tqdm(val_loader, desc=f\"Validation Epoch {epoch+1}/{EPOCHS}\"):\n",
        "            images, input_ids, attention_mask, labels = images.to(device), input_ids.to(device), attention_mask.to(device), labels.to(device)\n",
        "\n",
        "            # Feature extraction\n",
        "            img_feat, text_feat = extractor(images, input_ids, attention_mask)\n",
        "\n",
        "            # CAM model forward pass\n",
        "            outputs = cam_model(img_feat, text_feat)  # Multi-class outputs (logits)\n",
        "\n",
        "            _, predicted_labels = torch.max(outputs, 1)\n",
        "            val_correct_preds += (predicted_labels == labels).sum().item()\n",
        "            val_total_preds += labels.size(0)\n",
        "\n",
        "            val_all_preds.append(torch.nn.functional.softmax(outputs, dim=1).cpu().detach().numpy())  # Probabilities\n",
        "            val_all_labels.append(labels.cpu().detach().numpy())\n",
        "\n",
        "    val_acc = val_correct_preds / val_total_preds\n",
        "    val_all_preds = np.concatenate(val_all_preds, axis=0)\n",
        "    val_all_labels = np.concatenate(val_all_labels, axis=0)\n",
        "\n",
        "    val_f1 = f1_score(val_all_labels, np.argmax(val_all_preds, axis=1), average='macro')\n",
        "    val_auc = roc_auc_score(val_all_labels, val_all_preds, multi_class='ovr', average='macro')\n",
        "\n",
        "    print(f\"Epoch {epoch+1}/{EPOCHS}, Validation Accuracy: {val_acc:.4f}, Validation F1-score: {val_f1:.4f}, Validation AUC-ROC: {val_auc:.4f}\")\n",
        "\n",
        "    # Save the best model based on validation accuracy\n",
        "    if val_acc > best_val_acc:\n",
        "        best_val_acc = val_acc\n",
        "        best_val_auc = val_auc\n",
        "        best_val_f1 = val_f1\n",
        "        val_predictions = np.argmax(val_all_preds, axis=1)\n",
        "        best_conf_matrix = confusion_matrix(val_all_labels, val_predictions)\n",
        "        torch.save(cam_model.state_dict(), \"best_cancer_cam_model.pth\")\n",
        "\n",
        "\n",
        "# ============================\n",
        "# Print Final Best Statistics\n",
        "# ============================\n",
        "print(\"\\nBest Model Statistics:\")\n",
        "print(f\"Best Validation Accuracy: {best_val_acc:.4f}\")\n",
        "print(f\"Best Validation F1-score: {best_val_f1:.4f}\")\n",
        "print(f\"Best Validation AUC-ROC: {best_val_auc:.4f}\")\n",
        "\n",
        "# Plot the confusion matrix\n",
        "plt.figure(figsize=(6, 6))\n",
        "sns.heatmap(best_conf_matrix, annot=True, fmt='d', cmap='Blues', xticklabels=[0,1,2], yticklabels=[0,1,2])\n",
        "plt.xlabel(\"Predicted Labels\")\n",
        "plt.ylabel(\"True Labels\")\n",
        "plt.title(\"Confusion Matrix for Best Model\")\n",
        "plt.show()"
      ],
      "metadata": {
        "colab": {
          "base_uri": "https://localhost:8080/",
          "height": 1000
        },
        "id": "Pp8tyLhjlVQ9",
        "outputId": "00238ad4-2978-4637-d0c8-177c65cf1e5c"
      },
      "execution_count": 279,
      "outputs": [
        {
          "output_type": "stream",
          "name": "stderr",
          "text": [
            "/usr/local/lib/python3.11/dist-packages/torchvision/models/_utils.py:208: UserWarning: The parameter 'pretrained' is deprecated since 0.13 and may be removed in the future, please use 'weights' instead.\n",
            "  warnings.warn(\n",
            "/usr/local/lib/python3.11/dist-packages/torchvision/models/_utils.py:223: UserWarning: Arguments other than a weight enum or `None` for 'weights' are deprecated since 0.13 and may be removed in the future. The current behavior is equivalent to passing `weights=ResNet18_Weights.IMAGENET1K_V1`. You can also use `weights=ResNet18_Weights.DEFAULT` to get the most up-to-date weights.\n",
            "  warnings.warn(msg)\n",
            "Epoch 1/40: 100%|██████████| 26/26 [00:46<00:00,  1.79s/it]\n"
          ]
        },
        {
          "output_type": "stream",
          "name": "stdout",
          "text": [
            "Epoch 1/40, Loss: 1.0495, Training Accuracy: 0.4826, Training F1-score: 0.3679, Training AUC-ROC: 0.5874\n"
          ]
        },
        {
          "output_type": "stream",
          "name": "stderr",
          "text": [
            "Validation Epoch 1/40: 100%|██████████| 7/7 [00:05<00:00,  1.35it/s]\n"
          ]
        },
        {
          "output_type": "stream",
          "name": "stdout",
          "text": [
            "Epoch 1/40, Validation Accuracy: 0.6238, Validation F1-score: 0.4902, Validation AUC-ROC: 0.8138\n"
          ]
        },
        {
          "output_type": "stream",
          "name": "stderr",
          "text": [
            "Epoch 2/40: 100%|██████████| 26/26 [00:28<00:00,  1.10s/it]\n"
          ]
        },
        {
          "output_type": "stream",
          "name": "stdout",
          "text": [
            "Epoch 2/40, Loss: 1.0038, Training Accuracy: 0.5697, Training F1-score: 0.4715, Training AUC-ROC: 0.6729\n"
          ]
        },
        {
          "output_type": "stream",
          "name": "stderr",
          "text": [
            "Validation Epoch 2/40: 100%|██████████| 7/7 [00:06<00:00,  1.11it/s]\n"
          ]
        },
        {
          "output_type": "stream",
          "name": "stdout",
          "text": [
            "Epoch 2/40, Validation Accuracy: 0.6139, Validation F1-score: 0.4799, Validation AUC-ROC: 0.8831\n"
          ]
        },
        {
          "output_type": "stream",
          "name": "stderr",
          "text": [
            "Epoch 3/40: 100%|██████████| 26/26 [00:29<00:00,  1.12s/it]\n"
          ]
        },
        {
          "output_type": "stream",
          "name": "stdout",
          "text": [
            "Epoch 3/40, Loss: 0.8870, Training Accuracy: 0.6891, Training F1-score: 0.5877, Training AUC-ROC: 0.8143\n"
          ]
        },
        {
          "output_type": "stream",
          "name": "stderr",
          "text": [
            "Validation Epoch 3/40: 100%|██████████| 7/7 [00:05<00:00,  1.36it/s]\n"
          ]
        },
        {
          "output_type": "stream",
          "name": "stdout",
          "text": [
            "Epoch 3/40, Validation Accuracy: 0.6733, Validation F1-score: 0.5690, Validation AUC-ROC: 0.9162\n"
          ]
        },
        {
          "output_type": "stream",
          "name": "stderr",
          "text": [
            "Epoch 4/40: 100%|██████████| 26/26 [00:30<00:00,  1.19s/it]\n"
          ]
        },
        {
          "output_type": "stream",
          "name": "stdout",
          "text": [
            "Epoch 4/40, Loss: 0.7248, Training Accuracy: 0.7711, Training F1-score: 0.6922, Training AUC-ROC: 0.8878\n"
          ]
        },
        {
          "output_type": "stream",
          "name": "stderr",
          "text": [
            "Validation Epoch 4/40: 100%|██████████| 7/7 [00:05<00:00,  1.37it/s]\n"
          ]
        },
        {
          "output_type": "stream",
          "name": "stdout",
          "text": [
            "Epoch 4/40, Validation Accuracy: 0.7030, Validation F1-score: 0.6132, Validation AUC-ROC: 0.8956\n"
          ]
        },
        {
          "output_type": "stream",
          "name": "stderr",
          "text": [
            "Epoch 5/40: 100%|██████████| 26/26 [00:28<00:00,  1.09s/it]\n"
          ]
        },
        {
          "output_type": "stream",
          "name": "stdout",
          "text": [
            "Epoch 5/40, Loss: 0.6063, Training Accuracy: 0.8085, Training F1-score: 0.7474, Training AUC-ROC: 0.9046\n"
          ]
        },
        {
          "output_type": "stream",
          "name": "stderr",
          "text": [
            "Validation Epoch 5/40: 100%|██████████| 7/7 [00:06<00:00,  1.12it/s]\n"
          ]
        },
        {
          "output_type": "stream",
          "name": "stdout",
          "text": [
            "Epoch 5/40, Validation Accuracy: 0.8020, Validation F1-score: 0.7664, Validation AUC-ROC: 0.9284\n"
          ]
        },
        {
          "output_type": "stream",
          "name": "stderr",
          "text": [
            "Epoch 6/40: 100%|██████████| 26/26 [00:28<00:00,  1.08s/it]\n"
          ]
        },
        {
          "output_type": "stream",
          "name": "stdout",
          "text": [
            "Epoch 6/40, Loss: 0.4820, Training Accuracy: 0.8383, Training F1-score: 0.7845, Training AUC-ROC: 0.9384\n"
          ]
        },
        {
          "output_type": "stream",
          "name": "stderr",
          "text": [
            "Validation Epoch 6/40: 100%|██████████| 7/7 [00:05<00:00,  1.36it/s]\n"
          ]
        },
        {
          "output_type": "stream",
          "name": "stdout",
          "text": [
            "Epoch 6/40, Validation Accuracy: 0.8020, Validation F1-score: 0.7667, Validation AUC-ROC: 0.9187\n"
          ]
        },
        {
          "output_type": "stream",
          "name": "stderr",
          "text": [
            "Epoch 7/40: 100%|██████████| 26/26 [00:28<00:00,  1.09s/it]\n"
          ]
        },
        {
          "output_type": "stream",
          "name": "stdout",
          "text": [
            "Epoch 7/40, Loss: 0.4459, Training Accuracy: 0.8781, Training F1-score: 0.8544, Training AUC-ROC: 0.9502\n"
          ]
        },
        {
          "output_type": "stream",
          "name": "stderr",
          "text": [
            "Validation Epoch 7/40: 100%|██████████| 7/7 [00:06<00:00,  1.12it/s]\n"
          ]
        },
        {
          "output_type": "stream",
          "name": "stdout",
          "text": [
            "Epoch 7/40, Validation Accuracy: 0.7921, Validation F1-score: 0.7530, Validation AUC-ROC: 0.9139\n"
          ]
        },
        {
          "output_type": "stream",
          "name": "stderr",
          "text": [
            "Epoch 8/40: 100%|██████████| 26/26 [00:28<00:00,  1.10s/it]\n"
          ]
        },
        {
          "output_type": "stream",
          "name": "stdout",
          "text": [
            "Epoch 8/40, Loss: 0.3994, Training Accuracy: 0.8756, Training F1-score: 0.8515, Training AUC-ROC: 0.9519\n"
          ]
        },
        {
          "output_type": "stream",
          "name": "stderr",
          "text": [
            "Validation Epoch 8/40: 100%|██████████| 7/7 [00:05<00:00,  1.29it/s]\n"
          ]
        },
        {
          "output_type": "stream",
          "name": "stdout",
          "text": [
            "Epoch 8/40, Validation Accuracy: 0.8020, Validation F1-score: 0.7664, Validation AUC-ROC: 0.9210\n"
          ]
        },
        {
          "output_type": "stream",
          "name": "stderr",
          "text": [
            "Epoch 9/40: 100%|██████████| 26/26 [00:29<00:00,  1.13s/it]\n"
          ]
        },
        {
          "output_type": "stream",
          "name": "stdout",
          "text": [
            "Epoch 9/40, Loss: 0.3812, Training Accuracy: 0.8831, Training F1-score: 0.8575, Training AUC-ROC: 0.9478\n"
          ]
        },
        {
          "output_type": "stream",
          "name": "stderr",
          "text": [
            "Validation Epoch 9/40: 100%|██████████| 7/7 [00:05<00:00,  1.34it/s]\n"
          ]
        },
        {
          "output_type": "stream",
          "name": "stdout",
          "text": [
            "Epoch 9/40, Validation Accuracy: 0.8119, Validation F1-score: 0.7796, Validation AUC-ROC: 0.9319\n"
          ]
        },
        {
          "output_type": "stream",
          "name": "stderr",
          "text": [
            "Epoch 10/40: 100%|██████████| 26/26 [00:29<00:00,  1.14s/it]\n"
          ]
        },
        {
          "output_type": "stream",
          "name": "stdout",
          "text": [
            "Epoch 10/40, Loss: 0.3327, Training Accuracy: 0.8806, Training F1-score: 0.8522, Training AUC-ROC: 0.9591\n"
          ]
        },
        {
          "output_type": "stream",
          "name": "stderr",
          "text": [
            "Validation Epoch 10/40: 100%|██████████| 7/7 [00:06<00:00,  1.10it/s]\n"
          ]
        },
        {
          "output_type": "stream",
          "name": "stdout",
          "text": [
            "Epoch 10/40, Validation Accuracy: 0.8119, Validation F1-score: 0.7822, Validation AUC-ROC: 0.9255\n"
          ]
        },
        {
          "output_type": "stream",
          "name": "stderr",
          "text": [
            "Epoch 11/40: 100%|██████████| 26/26 [00:28<00:00,  1.11s/it]\n"
          ]
        },
        {
          "output_type": "stream",
          "name": "stdout",
          "text": [
            "Epoch 11/40, Loss: 0.3624, Training Accuracy: 0.8731, Training F1-score: 0.8496, Training AUC-ROC: 0.9541\n"
          ]
        },
        {
          "output_type": "stream",
          "name": "stderr",
          "text": [
            "Validation Epoch 11/40: 100%|██████████| 7/7 [00:05<00:00,  1.34it/s]\n"
          ]
        },
        {
          "output_type": "stream",
          "name": "stdout",
          "text": [
            "Epoch 11/40, Validation Accuracy: 0.8119, Validation F1-score: 0.7812, Validation AUC-ROC: 0.9403\n"
          ]
        },
        {
          "output_type": "stream",
          "name": "stderr",
          "text": [
            "Epoch 12/40: 100%|██████████| 26/26 [00:29<00:00,  1.12s/it]\n"
          ]
        },
        {
          "output_type": "stream",
          "name": "stdout",
          "text": [
            "Epoch 12/40, Loss: 0.3430, Training Accuracy: 0.8881, Training F1-score: 0.8680, Training AUC-ROC: 0.9534\n"
          ]
        },
        {
          "output_type": "stream",
          "name": "stderr",
          "text": [
            "Validation Epoch 12/40: 100%|██████████| 7/7 [00:05<00:00,  1.21it/s]\n"
          ]
        },
        {
          "output_type": "stream",
          "name": "stdout",
          "text": [
            "Epoch 12/40, Validation Accuracy: 0.8218, Validation F1-score: 0.7925, Validation AUC-ROC: 0.9239\n"
          ]
        },
        {
          "output_type": "stream",
          "name": "stderr",
          "text": [
            "Epoch 13/40: 100%|██████████| 26/26 [00:28<00:00,  1.11s/it]\n"
          ]
        },
        {
          "output_type": "stream",
          "name": "stdout",
          "text": [
            "Epoch 13/40, Loss: 0.3792, Training Accuracy: 0.8881, Training F1-score: 0.8644, Training AUC-ROC: 0.9560\n"
          ]
        },
        {
          "output_type": "stream",
          "name": "stderr",
          "text": [
            "Validation Epoch 13/40: 100%|██████████| 7/7 [00:06<00:00,  1.17it/s]\n"
          ]
        },
        {
          "output_type": "stream",
          "name": "stdout",
          "text": [
            "Epoch 13/40, Validation Accuracy: 0.8119, Validation F1-score: 0.7817, Validation AUC-ROC: 0.9375\n"
          ]
        },
        {
          "output_type": "stream",
          "name": "stderr",
          "text": [
            "Epoch 14/40: 100%|██████████| 26/26 [00:28<00:00,  1.10s/it]\n"
          ]
        },
        {
          "output_type": "stream",
          "name": "stdout",
          "text": [
            "Epoch 14/40, Loss: 0.3401, Training Accuracy: 0.9030, Training F1-score: 0.8826, Training AUC-ROC: 0.9483\n"
          ]
        },
        {
          "output_type": "stream",
          "name": "stderr",
          "text": [
            "Validation Epoch 14/40: 100%|██████████| 7/7 [00:05<00:00,  1.35it/s]\n"
          ]
        },
        {
          "output_type": "stream",
          "name": "stdout",
          "text": [
            "Epoch 14/40, Validation Accuracy: 0.8317, Validation F1-score: 0.8052, Validation AUC-ROC: 0.9322\n"
          ]
        },
        {
          "output_type": "stream",
          "name": "stderr",
          "text": [
            "Epoch 15/40: 100%|██████████| 26/26 [00:28<00:00,  1.09s/it]\n"
          ]
        },
        {
          "output_type": "stream",
          "name": "stdout",
          "text": [
            "Epoch 15/40, Loss: 0.3123, Training Accuracy: 0.8980, Training F1-score: 0.8777, Training AUC-ROC: 0.9608\n"
          ]
        },
        {
          "output_type": "stream",
          "name": "stderr",
          "text": [
            "Validation Epoch 15/40: 100%|██████████| 7/7 [00:06<00:00,  1.13it/s]\n"
          ]
        },
        {
          "output_type": "stream",
          "name": "stdout",
          "text": [
            "Epoch 15/40, Validation Accuracy: 0.8218, Validation F1-score: 0.7937, Validation AUC-ROC: 0.9292\n"
          ]
        },
        {
          "output_type": "stream",
          "name": "stderr",
          "text": [
            "Epoch 16/40: 100%|██████████| 26/26 [00:28<00:00,  1.08s/it]\n"
          ]
        },
        {
          "output_type": "stream",
          "name": "stdout",
          "text": [
            "Epoch 16/40, Loss: 0.2897, Training Accuracy: 0.9055, Training F1-score: 0.8875, Training AUC-ROC: 0.9637\n"
          ]
        },
        {
          "output_type": "stream",
          "name": "stderr",
          "text": [
            "Validation Epoch 16/40: 100%|██████████| 7/7 [00:05<00:00,  1.36it/s]\n"
          ]
        },
        {
          "output_type": "stream",
          "name": "stdout",
          "text": [
            "Epoch 16/40, Validation Accuracy: 0.8317, Validation F1-score: 0.8052, Validation AUC-ROC: 0.9185\n"
          ]
        },
        {
          "output_type": "stream",
          "name": "stderr",
          "text": [
            "Epoch 17/40: 100%|██████████| 26/26 [00:28<00:00,  1.10s/it]\n"
          ]
        },
        {
          "output_type": "stream",
          "name": "stdout",
          "text": [
            "Epoch 17/40, Loss: 0.2787, Training Accuracy: 0.8955, Training F1-score: 0.8750, Training AUC-ROC: 0.9684\n"
          ]
        },
        {
          "output_type": "stream",
          "name": "stderr",
          "text": [
            "Validation Epoch 17/40: 100%|██████████| 7/7 [00:05<00:00,  1.18it/s]\n"
          ]
        },
        {
          "output_type": "stream",
          "name": "stdout",
          "text": [
            "Epoch 17/40, Validation Accuracy: 0.8416, Validation F1-score: 0.8177, Validation AUC-ROC: 0.9299\n"
          ]
        },
        {
          "output_type": "stream",
          "name": "stderr",
          "text": [
            "Epoch 18/40: 100%|██████████| 26/26 [00:29<00:00,  1.15s/it]\n"
          ]
        },
        {
          "output_type": "stream",
          "name": "stdout",
          "text": [
            "Epoch 18/40, Loss: 0.2659, Training Accuracy: 0.9204, Training F1-score: 0.9060, Training AUC-ROC: 0.9719\n"
          ]
        },
        {
          "output_type": "stream",
          "name": "stderr",
          "text": [
            "Validation Epoch 18/40: 100%|██████████| 7/7 [00:06<00:00,  1.16it/s]\n"
          ]
        },
        {
          "output_type": "stream",
          "name": "stdout",
          "text": [
            "Epoch 18/40, Validation Accuracy: 0.8218, Validation F1-score: 0.7937, Validation AUC-ROC: 0.9343\n"
          ]
        },
        {
          "output_type": "stream",
          "name": "stderr",
          "text": [
            "Epoch 19/40: 100%|██████████| 26/26 [00:28<00:00,  1.10s/it]\n"
          ]
        },
        {
          "output_type": "stream",
          "name": "stdout",
          "text": [
            "Epoch 19/40, Loss: 0.2584, Training Accuracy: 0.9154, Training F1-score: 0.8999, Training AUC-ROC: 0.9734\n"
          ]
        },
        {
          "output_type": "stream",
          "name": "stderr",
          "text": [
            "Validation Epoch 19/40: 100%|██████████| 7/7 [00:05<00:00,  1.36it/s]\n"
          ]
        },
        {
          "output_type": "stream",
          "name": "stdout",
          "text": [
            "Epoch 19/40, Validation Accuracy: 0.8416, Validation F1-score: 0.8183, Validation AUC-ROC: 0.9241\n"
          ]
        },
        {
          "output_type": "stream",
          "name": "stderr",
          "text": [
            "Epoch 20/40: 100%|██████████| 26/26 [00:28<00:00,  1.08s/it]\n"
          ]
        },
        {
          "output_type": "stream",
          "name": "stdout",
          "text": [
            "Epoch 20/40, Loss: 0.2797, Training Accuracy: 0.9080, Training F1-score: 0.8903, Training AUC-ROC: 0.9665\n"
          ]
        },
        {
          "output_type": "stream",
          "name": "stderr",
          "text": [
            "Validation Epoch 20/40: 100%|██████████| 7/7 [00:06<00:00,  1.12it/s]\n"
          ]
        },
        {
          "output_type": "stream",
          "name": "stdout",
          "text": [
            "Epoch 20/40, Validation Accuracy: 0.8614, Validation F1-score: 0.8421, Validation AUC-ROC: 0.9315\n"
          ]
        },
        {
          "output_type": "stream",
          "name": "stderr",
          "text": [
            "Epoch 21/40: 100%|██████████| 26/26 [00:28<00:00,  1.09s/it]\n"
          ]
        },
        {
          "output_type": "stream",
          "name": "stdout",
          "text": [
            "Epoch 21/40, Loss: 0.2611, Training Accuracy: 0.9129, Training F1-score: 0.8982, Training AUC-ROC: 0.9722\n"
          ]
        },
        {
          "output_type": "stream",
          "name": "stderr",
          "text": [
            "Validation Epoch 21/40: 100%|██████████| 7/7 [00:05<00:00,  1.35it/s]\n"
          ]
        },
        {
          "output_type": "stream",
          "name": "stdout",
          "text": [
            "Epoch 21/40, Validation Accuracy: 0.8416, Validation F1-score: 0.8177, Validation AUC-ROC: 0.9426\n"
          ]
        },
        {
          "output_type": "stream",
          "name": "stderr",
          "text": [
            "Epoch 22/40: 100%|██████████| 26/26 [00:28<00:00,  1.11s/it]\n"
          ]
        },
        {
          "output_type": "stream",
          "name": "stdout",
          "text": [
            "Epoch 22/40, Loss: 0.2438, Training Accuracy: 0.9129, Training F1-score: 0.8986, Training AUC-ROC: 0.9764\n"
          ]
        },
        {
          "output_type": "stream",
          "name": "stderr",
          "text": [
            "Validation Epoch 22/40: 100%|██████████| 7/7 [00:05<00:00,  1.18it/s]\n"
          ]
        },
        {
          "output_type": "stream",
          "name": "stdout",
          "text": [
            "Epoch 22/40, Validation Accuracy: 0.8218, Validation F1-score: 0.7937, Validation AUC-ROC: 0.9364\n"
          ]
        },
        {
          "output_type": "stream",
          "name": "stderr",
          "text": [
            "Epoch 23/40: 100%|██████████| 26/26 [00:28<00:00,  1.09s/it]\n"
          ]
        },
        {
          "output_type": "stream",
          "name": "stdout",
          "text": [
            "Epoch 23/40, Loss: 0.2550, Training Accuracy: 0.9104, Training F1-score: 0.8930, Training AUC-ROC: 0.9764\n"
          ]
        },
        {
          "output_type": "stream",
          "name": "stderr",
          "text": [
            "Validation Epoch 23/40: 100%|██████████| 7/7 [00:05<00:00,  1.26it/s]\n"
          ]
        },
        {
          "output_type": "stream",
          "name": "stdout",
          "text": [
            "Epoch 23/40, Validation Accuracy: 0.8515, Validation F1-score: 0.8300, Validation AUC-ROC: 0.9292\n"
          ]
        },
        {
          "output_type": "stream",
          "name": "stderr",
          "text": [
            "Epoch 24/40: 100%|██████████| 26/26 [00:29<00:00,  1.12s/it]\n"
          ]
        },
        {
          "output_type": "stream",
          "name": "stdout",
          "text": [
            "Epoch 24/40, Loss: 0.2818, Training Accuracy: 0.9154, Training F1-score: 0.9023, Training AUC-ROC: 0.9652\n"
          ]
        },
        {
          "output_type": "stream",
          "name": "stderr",
          "text": [
            "Validation Epoch 24/40: 100%|██████████| 7/7 [00:05<00:00,  1.35it/s]\n"
          ]
        },
        {
          "output_type": "stream",
          "name": "stdout",
          "text": [
            "Epoch 24/40, Validation Accuracy: 0.8416, Validation F1-score: 0.8183, Validation AUC-ROC: 0.9412\n"
          ]
        },
        {
          "output_type": "stream",
          "name": "stderr",
          "text": [
            "Epoch 25/40: 100%|██████████| 26/26 [00:28<00:00,  1.09s/it]\n"
          ]
        },
        {
          "output_type": "stream",
          "name": "stdout",
          "text": [
            "Epoch 25/40, Loss: 0.2584, Training Accuracy: 0.9055, Training F1-score: 0.8898, Training AUC-ROC: 0.9745\n"
          ]
        },
        {
          "output_type": "stream",
          "name": "stderr",
          "text": [
            "Validation Epoch 25/40: 100%|██████████| 7/7 [00:06<00:00,  1.13it/s]\n"
          ]
        },
        {
          "output_type": "stream",
          "name": "stdout",
          "text": [
            "Epoch 25/40, Validation Accuracy: 0.8515, Validation F1-score: 0.8304, Validation AUC-ROC: 0.9326\n"
          ]
        },
        {
          "output_type": "stream",
          "name": "stderr",
          "text": [
            "Epoch 26/40: 100%|██████████| 26/26 [00:29<00:00,  1.14s/it]\n"
          ]
        },
        {
          "output_type": "stream",
          "name": "stdout",
          "text": [
            "Epoch 26/40, Loss: 0.2503, Training Accuracy: 0.9129, Training F1-score: 0.8978, Training AUC-ROC: 0.9752\n"
          ]
        },
        {
          "output_type": "stream",
          "name": "stderr",
          "text": [
            "Validation Epoch 26/40: 100%|██████████| 7/7 [00:05<00:00,  1.35it/s]\n"
          ]
        },
        {
          "output_type": "stream",
          "name": "stdout",
          "text": [
            "Epoch 26/40, Validation Accuracy: 0.7822, Validation F1-score: 0.7445, Validation AUC-ROC: 0.9125\n"
          ]
        },
        {
          "output_type": "stream",
          "name": "stderr",
          "text": [
            "Epoch 27/40: 100%|██████████| 26/26 [00:28<00:00,  1.11s/it]\n"
          ]
        },
        {
          "output_type": "stream",
          "name": "stdout",
          "text": [
            "Epoch 27/40, Loss: 0.2262, Training Accuracy: 0.9204, Training F1-score: 0.9070, Training AUC-ROC: 0.9799\n"
          ]
        },
        {
          "output_type": "stream",
          "name": "stderr",
          "text": [
            "Validation Epoch 27/40: 100%|██████████| 7/7 [00:05<00:00,  1.21it/s]\n"
          ]
        },
        {
          "output_type": "stream",
          "name": "stdout",
          "text": [
            "Epoch 27/40, Validation Accuracy: 0.8515, Validation F1-score: 0.8304, Validation AUC-ROC: 0.9314\n"
          ]
        },
        {
          "output_type": "stream",
          "name": "stderr",
          "text": [
            "Epoch 28/40: 100%|██████████| 26/26 [00:28<00:00,  1.10s/it]\n"
          ]
        },
        {
          "output_type": "stream",
          "name": "stdout",
          "text": [
            "Epoch 28/40, Loss: 0.2294, Training Accuracy: 0.9204, Training F1-score: 0.9059, Training AUC-ROC: 0.9765\n"
          ]
        },
        {
          "output_type": "stream",
          "name": "stderr",
          "text": [
            "Validation Epoch 28/40: 100%|██████████| 7/7 [00:05<00:00,  1.21it/s]\n"
          ]
        },
        {
          "output_type": "stream",
          "name": "stdout",
          "text": [
            "Epoch 28/40, Validation Accuracy: 0.8317, Validation F1-score: 0.8066, Validation AUC-ROC: 0.9209\n"
          ]
        },
        {
          "output_type": "stream",
          "name": "stderr",
          "text": [
            "Epoch 29/40: 100%|██████████| 26/26 [00:28<00:00,  1.11s/it]\n"
          ]
        },
        {
          "output_type": "stream",
          "name": "stdout",
          "text": [
            "Epoch 29/40, Loss: 0.2207, Training Accuracy: 0.9204, Training F1-score: 0.9066, Training AUC-ROC: 0.9792\n"
          ]
        },
        {
          "output_type": "stream",
          "name": "stderr",
          "text": [
            "Validation Epoch 29/40: 100%|██████████| 7/7 [00:05<00:00,  1.33it/s]\n"
          ]
        },
        {
          "output_type": "stream",
          "name": "stdout",
          "text": [
            "Epoch 29/40, Validation Accuracy: 0.8416, Validation F1-score: 0.8183, Validation AUC-ROC: 0.9268\n"
          ]
        },
        {
          "output_type": "stream",
          "name": "stderr",
          "text": [
            "Epoch 30/40: 100%|██████████| 26/26 [00:28<00:00,  1.10s/it]\n"
          ]
        },
        {
          "output_type": "stream",
          "name": "stdout",
          "text": [
            "Epoch 30/40, Loss: 0.2057, Training Accuracy: 0.9328, Training F1-score: 0.9218, Training AUC-ROC: 0.9805\n"
          ]
        },
        {
          "output_type": "stream",
          "name": "stderr",
          "text": [
            "Validation Epoch 30/40: 100%|██████████| 7/7 [00:06<00:00,  1.12it/s]\n"
          ]
        },
        {
          "output_type": "stream",
          "name": "stdout",
          "text": [
            "Epoch 30/40, Validation Accuracy: 0.8119, Validation F1-score: 0.7812, Validation AUC-ROC: 0.9317\n"
          ]
        },
        {
          "output_type": "stream",
          "name": "stderr",
          "text": [
            "Epoch 31/40: 100%|██████████| 26/26 [00:28<00:00,  1.11s/it]\n"
          ]
        },
        {
          "output_type": "stream",
          "name": "stdout",
          "text": [
            "Epoch 31/40, Loss: 0.2568, Training Accuracy: 0.9179, Training F1-score: 0.9033, Training AUC-ROC: 0.9695\n"
          ]
        },
        {
          "output_type": "stream",
          "name": "stderr",
          "text": [
            "Validation Epoch 31/40: 100%|██████████| 7/7 [00:05<00:00,  1.35it/s]\n"
          ]
        },
        {
          "output_type": "stream",
          "name": "stdout",
          "text": [
            "Epoch 31/40, Validation Accuracy: 0.8416, Validation F1-score: 0.8185, Validation AUC-ROC: 0.9217\n"
          ]
        },
        {
          "output_type": "stream",
          "name": "stderr",
          "text": [
            "Epoch 32/40: 100%|██████████| 26/26 [00:29<00:00,  1.13s/it]\n"
          ]
        },
        {
          "output_type": "stream",
          "name": "stdout",
          "text": [
            "Epoch 32/40, Loss: 0.2280, Training Accuracy: 0.9080, Training F1-score: 0.8921, Training AUC-ROC: 0.9835\n"
          ]
        },
        {
          "output_type": "stream",
          "name": "stderr",
          "text": [
            "Validation Epoch 32/40: 100%|██████████| 7/7 [00:05<00:00,  1.22it/s]\n"
          ]
        },
        {
          "output_type": "stream",
          "name": "stdout",
          "text": [
            "Epoch 32/40, Validation Accuracy: 0.8416, Validation F1-score: 0.8185, Validation AUC-ROC: 0.9299\n"
          ]
        },
        {
          "output_type": "stream",
          "name": "stderr",
          "text": [
            "Epoch 33/40: 100%|██████████| 26/26 [00:28<00:00,  1.11s/it]\n"
          ]
        },
        {
          "output_type": "stream",
          "name": "stdout",
          "text": [
            "Epoch 33/40, Loss: 0.2783, Training Accuracy: 0.8955, Training F1-score: 0.8760, Training AUC-ROC: 0.9657\n"
          ]
        },
        {
          "output_type": "stream",
          "name": "stderr",
          "text": [
            "Validation Epoch 33/40: 100%|██████████| 7/7 [00:08<00:00,  1.25s/it]\n"
          ]
        },
        {
          "output_type": "stream",
          "name": "stdout",
          "text": [
            "Epoch 33/40, Validation Accuracy: 0.8317, Validation F1-score: 0.8066, Validation AUC-ROC: 0.9283\n"
          ]
        },
        {
          "output_type": "stream",
          "name": "stderr",
          "text": [
            "Epoch 34/40: 100%|██████████| 26/26 [00:33<00:00,  1.30s/it]\n"
          ]
        },
        {
          "output_type": "stream",
          "name": "stdout",
          "text": [
            "Epoch 34/40, Loss: 0.1766, Training Accuracy: 0.9403, Training F1-score: 0.9297, Training AUC-ROC: 0.9885\n"
          ]
        },
        {
          "output_type": "stream",
          "name": "stderr",
          "text": [
            "Validation Epoch 34/40: 100%|██████████| 7/7 [00:06<00:00,  1.11it/s]\n"
          ]
        },
        {
          "output_type": "stream",
          "name": "stdout",
          "text": [
            "Epoch 34/40, Validation Accuracy: 0.8515, Validation F1-score: 0.8304, Validation AUC-ROC: 0.9267\n"
          ]
        },
        {
          "output_type": "stream",
          "name": "stderr",
          "text": [
            "Epoch 35/40: 100%|██████████| 26/26 [00:28<00:00,  1.11s/it]\n"
          ]
        },
        {
          "output_type": "stream",
          "name": "stdout",
          "text": [
            "Epoch 35/40, Loss: 0.1720, Training Accuracy: 0.9478, Training F1-score: 0.9396, Training AUC-ROC: 0.9865\n"
          ]
        },
        {
          "output_type": "stream",
          "name": "stderr",
          "text": [
            "Validation Epoch 35/40: 100%|██████████| 7/7 [00:05<00:00,  1.32it/s]\n"
          ]
        },
        {
          "output_type": "stream",
          "name": "stdout",
          "text": [
            "Epoch 35/40, Validation Accuracy: 0.8515, Validation F1-score: 0.8292, Validation AUC-ROC: 0.9335\n"
          ]
        },
        {
          "output_type": "stream",
          "name": "stderr",
          "text": [
            "Epoch 36/40: 100%|██████████| 26/26 [00:30<00:00,  1.16s/it]\n"
          ]
        },
        {
          "output_type": "stream",
          "name": "stdout",
          "text": [
            "Epoch 36/40, Loss: 0.1682, Training Accuracy: 0.9502, Training F1-score: 0.9414, Training AUC-ROC: 0.9871\n"
          ]
        },
        {
          "output_type": "stream",
          "name": "stderr",
          "text": [
            "Validation Epoch 36/40: 100%|██████████| 7/7 [00:05<00:00,  1.25it/s]\n"
          ]
        },
        {
          "output_type": "stream",
          "name": "stdout",
          "text": [
            "Epoch 36/40, Validation Accuracy: 0.8416, Validation F1-score: 0.8177, Validation AUC-ROC: 0.9328\n"
          ]
        },
        {
          "output_type": "stream",
          "name": "stderr",
          "text": [
            "Epoch 37/40: 100%|██████████| 26/26 [00:28<00:00,  1.10s/it]\n"
          ]
        },
        {
          "output_type": "stream",
          "name": "stdout",
          "text": [
            "Epoch 37/40, Loss: 0.1543, Training Accuracy: 0.9453, Training F1-score: 0.9357, Training AUC-ROC: 0.9903\n"
          ]
        },
        {
          "output_type": "stream",
          "name": "stderr",
          "text": [
            "Validation Epoch 37/40: 100%|██████████| 7/7 [00:06<00:00,  1.16it/s]\n"
          ]
        },
        {
          "output_type": "stream",
          "name": "stdout",
          "text": [
            "Epoch 37/40, Validation Accuracy: 0.8416, Validation F1-score: 0.8183, Validation AUC-ROC: 0.9286\n"
          ]
        },
        {
          "output_type": "stream",
          "name": "stderr",
          "text": [
            "Epoch 38/40: 100%|██████████| 26/26 [00:28<00:00,  1.11s/it]\n"
          ]
        },
        {
          "output_type": "stream",
          "name": "stdout",
          "text": [
            "Epoch 38/40, Loss: 0.1981, Training Accuracy: 0.9403, Training F1-score: 0.9305, Training AUC-ROC: 0.9852\n"
          ]
        },
        {
          "output_type": "stream",
          "name": "stderr",
          "text": [
            "Validation Epoch 38/40: 100%|██████████| 7/7 [00:05<00:00,  1.35it/s]\n"
          ]
        },
        {
          "output_type": "stream",
          "name": "stdout",
          "text": [
            "Epoch 38/40, Validation Accuracy: 0.8515, Validation F1-score: 0.8304, Validation AUC-ROC: 0.9329\n"
          ]
        },
        {
          "output_type": "stream",
          "name": "stderr",
          "text": [
            "Epoch 39/40: 100%|██████████| 26/26 [00:28<00:00,  1.11s/it]\n"
          ]
        },
        {
          "output_type": "stream",
          "name": "stdout",
          "text": [
            "Epoch 39/40, Loss: 0.1520, Training Accuracy: 0.9403, Training F1-score: 0.9301, Training AUC-ROC: 0.9922\n"
          ]
        },
        {
          "output_type": "stream",
          "name": "stderr",
          "text": [
            "Validation Epoch 39/40: 100%|██████████| 7/7 [00:06<00:00,  1.12it/s]\n"
          ]
        },
        {
          "output_type": "stream",
          "name": "stdout",
          "text": [
            "Epoch 39/40, Validation Accuracy: 0.8218, Validation F1-score: 0.7937, Validation AUC-ROC: 0.9355\n"
          ]
        },
        {
          "output_type": "stream",
          "name": "stderr",
          "text": [
            "Epoch 40/40: 100%|██████████| 26/26 [00:28<00:00,  1.09s/it]\n"
          ]
        },
        {
          "output_type": "stream",
          "name": "stdout",
          "text": [
            "Epoch 40/40, Loss: 0.1561, Training Accuracy: 0.9527, Training F1-score: 0.9440, Training AUC-ROC: 0.9882\n"
          ]
        },
        {
          "output_type": "stream",
          "name": "stderr",
          "text": [
            "Validation Epoch 40/40: 100%|██████████| 7/7 [00:05<00:00,  1.35it/s]"
          ]
        },
        {
          "output_type": "stream",
          "name": "stdout",
          "text": [
            "Epoch 40/40, Validation Accuracy: 0.8614, Validation F1-score: 0.8416, Validation AUC-ROC: 0.9319\n",
            "\n",
            "Best Model Statistics:\n",
            "Best Validation Accuracy: 0.8614\n",
            "Best Validation F1-score: 0.8421\n",
            "Best Validation AUC-ROC: 0.9315\n"
          ]
        },
        {
          "output_type": "stream",
          "name": "stderr",
          "text": [
            "\n"
          ]
        },
        {
          "output_type": "display_data",
          "data": {
            "text/plain": [
              "<Figure size 600x600 with 2 Axes>"
            ],
            "image/png": "[encoded data removed]"
          },
          "metadata": {}
        }
      ]
    }
  ],
  "metadata": {
    "kernelspec": {
      "display_name": "Python 3",
      "name": "python3"
    },
    "language_info": {
      "codemirror_mode": {
        "name": "ipython",
        "version": 3
      },
      "file_extension": ".py",
      "mimetype": "text/x-python",
      "name": "python",
      "nbconvert_exporter": "python",
      "pygments_lexer": "ipython3",
      "version": "3.10.16"
    },
    "colab": {
      "provenance": [],
      "gpuType": "T4"
    },
    "accelerator": "GPU"
  },
  "nbformat": 4,
  "nbformat_minor": 0
}